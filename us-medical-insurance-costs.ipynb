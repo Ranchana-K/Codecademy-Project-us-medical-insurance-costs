{
 "cells": [
  {
   "cell_type": "markdown",
   "metadata": {},
   "source": [
    "# U.S. Medical Insurance Costs"
   ]
  },
  {
   "cell_type": "markdown",
   "metadata": {},
   "source": [
    "Medical insurance costs affect all of us that are not wealthy enough to not need it. Although the data set doesn’t include all of the factors that can affect cost, I’m curious to see what the costs are for certain groups. I will analysis the data in insurance.csv to find the answers to the following questions:\n",
    "1.\tWhich region has the highest average cost? The least?\n",
    "2.\tAre the average costs different for each generation?\n",
    "3.\tHow much does each child raise insurance cost on average? \n",
    "4.\tWhich BMI category pays the highest costs? The lowest? \n",
    "5.\tDo smokers pay more than non-smokers overall? For each generation?\n",
    "6.\tDo men or women pay more on average overall? What about for each generation?"
   ]
  },
  {
   "cell_type": "code",
   "execution_count": 1,
   "metadata": {},
   "outputs": [
    {
     "name": "stdout",
     "output_type": "stream",
     "text": [
      "19\n",
      "<class 'int'>\n",
      "female\n",
      "<class 'str'>\n",
      "27.9\n",
      "<class 'float'>\n",
      "0\n",
      "<class 'int'>\n",
      "yes\n",
      "<class 'str'>\n",
      "southwest\n",
      "<class 'str'>\n",
      "16884.924\n",
      "<class 'float'>\n"
     ]
    }
   ],
   "source": [
    "#Insurance.csv has to be imported before I can use it.\n",
    "import csv\n",
    "\n",
    "#Added the data from insurance.csv to a new lists that could be manipulated more easily. \n",
    "#When I tried to put the data into one list, it became a list of dictionaries. \n",
    "#Acquiring the needed information from that list proved to be more difficult than I thought. \n",
    "#So I started over. I'll create a dictionary of list instead.\n",
    "with open ('insurance.csv') as insurance_file:\n",
    "    ages = []\n",
    "    gender_list = []\n",
    "    bmis = []\n",
    "    children_list = []\n",
    "    smoker_status = []\n",
    "    regions = []\n",
    "    costs = []\n",
    "    ins_data = csv.DictReader(insurance_file, delimiter = ',')\n",
    "    for record in ins_data:\n",
    "        ages.append(int(record['age']))\n",
    "        gender_list.append(record['sex'])\n",
    "        bmis.append(float(record['bmi']))\n",
    "        children_list.append(int(record['children']))\n",
    "        smoker_status.append(record['smoker'])\n",
    "        regions.append(record['region'])\n",
    "        costs.append(float(record['charges']))\n",
    "#Printed the first record of each list to check the format. It appears to have worked correctly. I also checked the type of\n",
    "#each category and discovered why I had issues further down in the code. I changed the types to get the code to work properly.\n",
    "print(ages[0])\n",
    "print(type(ages[0]))\n",
    "print(gender_list[0])\n",
    "print(type(gender_list[0]))\n",
    "print(bmis[0])\n",
    "print(type(bmis[0]))\n",
    "print(children_list[0])\n",
    "print(type(children_list[0]))\n",
    "print(smoker_status[0])\n",
    "print(type(smoker_status[0]))\n",
    "print(regions[0])\n",
    "print(type(regions[0]))\n",
    "print(costs[0])\n",
    "print(type(costs[0]))"
   ]
  },
  {
   "cell_type": "code",
   "execution_count": 2,
   "metadata": {},
   "outputs": [
    {
     "name": "stdout",
     "output_type": "stream",
     "text": [
      "{'Age': 19, 'Sex': 'female', 'BMI': 27.9, 'Children': 0, 'Smoker': 'yes', 'Region': 'southwest', 'Cost': 16884.924}\n"
     ]
    }
   ],
   "source": [
    "#Created a dictionary of list. Since the lists I created had repeating values, no of them were suitable to be a key.\n",
    "#Also, had trouble with range, so I created a list of numbers to use at the key of the new dictionary.\n",
    "def ins_data_dictionary(ages, gender_list, bmis, children_list, smoker_status, regions, costs):\n",
    "    dkey = []\n",
    "    i = 0\n",
    "    while i < 1338:\n",
    "        dkey.append(i)\n",
    "        i += 1\n",
    "    ins_dict = {}\n",
    "    for i in dkey:\n",
    "        ins_dict[i] = {'Age': ages[i], 'Sex': gender_list[i], 'BMI': bmis[i], 'Children': children_list[i],\n",
    "                       'Smoker': smoker_status[i], 'Region': regions[i], 'Cost': costs[i]}\n",
    "        i += 1\n",
    "    return ins_dict\n",
    "data = ins_data_dictionary(ages, gender_list, bmis, children_list, smoker_status, regions, costs)\n",
    "#Printed the first record to make sure the data was organize that way I wanted it to be.\n",
    "print(data[0])"
   ]
  },
  {
   "cell_type": "code",
   "execution_count": 3,
   "metadata": {},
   "outputs": [
    {
     "name": "stdout",
     "output_type": "stream",
     "text": [
      "['southwest', 'southeast', 'northwest', 'northeast']\n"
     ]
    }
   ],
   "source": [
    "#Question 1. Which region has the highest average cost? The least?\n",
    "#I need to know which regions are in the data.\n",
    "#The function below will find distinct values for regions in the data and add them to a new list.\n",
    "def distinct_regions(regions):\n",
    "    reg = []\n",
    "    total = 0\n",
    "    for x in regions:\n",
    "        if x not in reg:\n",
    "            reg.append(x)\n",
    "    return reg\n",
    "\n",
    "regs = distinct_regions(regions)\n",
    "print(regs)"
   ]
  },
  {
   "cell_type": "code",
   "execution_count": 4,
   "metadata": {},
   "outputs": [
    {
     "name": "stdout",
     "output_type": "stream",
     "text": [
      "(12346.94, 14735.41, 12417.58, 13406.38)\n"
     ]
    }
   ],
   "source": [
    "#Found the total cost and the number of records for each region. Then found the average cost per region.\n",
    "def costs_per_regions(data):\n",
    "    total_sw = 0\n",
    "    total_se = 0\n",
    "    total_nw = 0\n",
    "    total_ne = 0\n",
    "    i = 0\n",
    "    count_sw = 0\n",
    "    count_se = 0\n",
    "    count_nw = 0\n",
    "    count_ne = 0\n",
    "    for i in data:\n",
    "        if data[i]['Region'] == 'southwest':\n",
    "            total_sw += float(data[i]['Cost'])\n",
    "            count_sw += 1\n",
    "        if data[i]['Region'] == 'southeast':\n",
    "            total_se += float(data[i]['Cost'])\n",
    "            count_se += 1\n",
    "        if data[i]['Region'] == 'northwest':\n",
    "            total_nw += float(data[i]['Cost'])\n",
    "            count_nw += 1\n",
    "        if data[i]['Region'] == 'northeast':\n",
    "            total_ne += float(data[i]['Cost'])\n",
    "            count_ne += 1\n",
    "        i += 1\n",
    "    average_sw = total_sw / count_sw\n",
    "    average_se = total_se / count_se\n",
    "    average_nw = total_nw / count_nw\n",
    "    average_ne = total_ne / count_ne\n",
    "    return round(average_sw, 2), round(average_se, 2), round(average_nw, 2), round(average_ne, 2)\n",
    "totals = costs_per_regions(data)\n",
    "print(totals)\n",
    "#The region with the highest average cost is the southeastern US with an average cost of $14,735.41.\n",
    "#The region with the lowest average cost is the southwestern US with an average cost of $12,346.94."
   ]
  },
  {
   "cell_type": "code",
   "execution_count": 5,
   "metadata": {},
   "outputs": [],
   "source": [
    "#Question 2: Are the average costs different for each generation?\n",
    "#Found the age range of the data.  "
   ]
  },
  {
   "cell_type": "code",
   "execution_count": 6,
   "metadata": {},
   "outputs": [
    {
     "data": {
      "text/plain": [
       "18"
      ]
     },
     "execution_count": 6,
     "metadata": {},
     "output_type": "execute_result"
    }
   ],
   "source": [
    "min(ages)"
   ]
  },
  {
   "cell_type": "code",
   "execution_count": 7,
   "metadata": {},
   "outputs": [
    {
     "data": {
      "text/plain": [
       "64"
      ]
     },
     "execution_count": 7,
     "metadata": {},
     "output_type": "execute_result"
    }
   ],
   "source": [
    "max(ages)"
   ]
  },
  {
   "cell_type": "code",
   "execution_count": 8,
   "metadata": {},
   "outputs": [
    {
     "name": "stdout",
     "output_type": "stream",
     "text": [
      "(19311.95, 15472.9, 10906.62, 10283.77)\n"
     ]
    }
   ],
   "source": [
    "#Divided the data by age according the following: ages 56 - 74(Baby Boomers),ages 40 - 55 (Generation X), \n",
    "#ages 24 to 39 (Millennials), and ages 23 and younger (Generation Z)[\"The generations defined\" chart\n",
    "#done by the Pew Research Center, \n",
    "#https://www.pewresearch.org/fact-tank/2019/01/17/where-millennials-end-and-generation-z-begins/]\n",
    "def costs_per_age(data):\n",
    "    i = 0\n",
    "    cost_bb = 0\n",
    "    count_bb = 0\n",
    "    cost_gx = 0\n",
    "    count_gx = 0\n",
    "    cost_m = 0\n",
    "    count_m = 0\n",
    "    cost_gz = 0\n",
    "    count_gz = 0\n",
    "    for i in data:\n",
    "        if data[i]['Age'] < 74 and data[i]['Age'] > 56:\n",
    "            cost_bb += data[i]['Cost']\n",
    "            count_bb += 1\n",
    "        elif data[i]['Age'] < 55 and data[i]['Age'] > 40:\n",
    "            cost_gx += data[i]['Cost']\n",
    "            count_gx += 1\n",
    "        elif data[i]['Age'] < 39 and data[i]['Age'] > 24:\n",
    "            cost_m += data[i]['Cost']\n",
    "            count_m += 1\n",
    "        else:\n",
    "            cost_gz += data[i]['Cost']\n",
    "            count_gz += 1\n",
    "        i += 1\n",
    "    average_bb = cost_bb / count_bb\n",
    "    average_gx = cost_gx / count_gx\n",
    "    average_m = cost_m / count_m\n",
    "    average_gz = cost_gz / count_gz\n",
    "    return round(average_bb, 2), round(average_gx, 2), round(average_m, 2), round(average_gz, 2)\n",
    "averages = costs_per_age(data)\n",
    "print(averages)\n",
    "#The average cost for each generation are $19,311.95 for the Baby Boomers, $15,472.90 for Generation X, $10,906.62 for\n",
    "#the Millennials and $10,283.77 for Generation Z. As expected, Generation Z has the lowest costs."
   ]
  },
  {
   "cell_type": "code",
   "execution_count": 9,
   "metadata": {},
   "outputs": [
    {
     "data": {
      "text/plain": [
       "5"
      ]
     },
     "execution_count": 9,
     "metadata": {},
     "output_type": "execute_result"
    }
   ],
   "source": [
    "#Question 3: How much does each child raise insurance cost on average?\n",
    "#Found the highest number of children a patient has.\n",
    "max(children_list)"
   ]
  },
  {
   "cell_type": "code",
   "execution_count": 10,
   "metadata": {},
   "outputs": [
    {
     "name": "stdout",
     "output_type": "stream",
     "text": [
      "(12365.98, 12731.17, 365, 15073.56, 2708, 15355.32, 2989, 13850.66, 1485, 8786.04, -3580)\n"
     ]
    }
   ],
   "source": [
    "#Found the average cost for each group of parents, 1 child, 2 children, etc.\n",
    "def child_cost(data):\n",
    "    i = 0\n",
    "    cost_0 = 0\n",
    "    count_0 = 0\n",
    "    cost_1 = 0\n",
    "    count_1 = 0\n",
    "    cost_2 = 0\n",
    "    count_2 = 0\n",
    "    cost_3 = 0\n",
    "    count_3 = 0\n",
    "    cost_4 = 0\n",
    "    count_4 = 0\n",
    "    cost_5 = 0\n",
    "    count_5 = 0\n",
    "    for i in data:\n",
    "        if data[i]['Children'] == 0:\n",
    "            cost_0 += data[i]['Cost']\n",
    "            count_0 += 1\n",
    "        elif data[i]['Children'] == 1:\n",
    "            cost_1 += data[i]['Cost']\n",
    "            count_1 += 1\n",
    "        elif data[i]['Children'] == 2:\n",
    "            cost_2 += data[i]['Cost']\n",
    "            count_2 += 1\n",
    "        elif data[i]['Children'] == 3:\n",
    "            cost_3 += data[i]['Cost']\n",
    "            count_3 += 1\n",
    "        elif data[i]['Children'] == 4:\n",
    "            cost_4 += data[i]['Cost']\n",
    "            count_4 += 1\n",
    "        else:\n",
    "            cost_5 += data[i]['Cost']\n",
    "            count_5 += 1\n",
    "        i += 1\n",
    "    average_0 = cost_0 / count_0\n",
    "    average_1 = cost_1 / count_1\n",
    "    average_2 = cost_2 / count_2\n",
    "    average_3 = cost_3 / count_3\n",
    "    average_4 = cost_4 / count_4\n",
    "    average_5 = cost_5 / count_5\n",
    "    diff_1 = average_1 - average_0\n",
    "    diff_2 = average_2 - average_0\n",
    "    diff_3 = average_3 - average_0\n",
    "    diff_4 = average_4 - average_0\n",
    "    diff_5 = average_5 - average_0\n",
    "    return round(average_0, 2), round(average_1, 2), round(diff_1), round(average_2, 2), round(diff_2),\\\n",
    "round(average_3, 2), round(diff_3), round(average_4, 2), round(diff_4), round(average_5, 2), round(diff_5)\n",
    "avs = child_cost(data)\n",
    "print(avs)\n",
    "#Just looking at the number of children vs cost, having one child raises cost by $365. Having 2 or 3 children are the \n",
    "#most expensive costing $2708 and $2989 more respectively. #Surprisingly, those with four children pay $1485 on average, \n",
    "#while those with five children pay less than those with none."
   ]
  },
  {
   "cell_type": "code",
   "execution_count": 11,
   "metadata": {},
   "outputs": [
    {
     "name": "stdout",
     "output_type": "stream",
     "text": [
      "(11020.18, 10404.9, 11020.18, 15420.4)\n"
     ]
    }
   ],
   "source": [
    "#Question 4: Which BMI category pays the highest costs? The lowest?\n",
    "#Divided the data by BMI according to the following info I found with a Google search: underweight is a BMI under 18.5, normal is a BMI between 18.5 to 24.9,\n",
    "#overweight is a BMI between 25 to 29.9 and obese is a BMI of 30 or more.\n",
    "def costs_per_bmi(data):\n",
    "    i = 0\n",
    "    cost_uw = 0\n",
    "    count_uw = 0\n",
    "    cost_n = 0\n",
    "    count_n = 0\n",
    "    cost_ow = 0\n",
    "    count_ow = 0\n",
    "    cost_o = 0\n",
    "    count_o = 0\n",
    "    for i in data:\n",
    "        if data[i]['BMI'] < 18.5:\n",
    "            cost_uw += data[i]['Cost']\n",
    "            count_uw += 1\n",
    "        elif data[i]['BMI'] > 18.5 and data[i]['BMI'] < 24.9:\n",
    "            cost_n += data[i]['Cost']\n",
    "            count_n += 1\n",
    "        elif data[i]['BMI'] > 25 and data[i]['BMI'] < 29.9:\n",
    "            cost_ow += data[i]['Cost']\n",
    "            count_ow += 1\n",
    "        else:\n",
    "            cost_o += data[i]['Cost']\n",
    "            count_o += 1\n",
    "        i += 1\n",
    "    average_uw = cost_uw / count_uw\n",
    "    average_n = cost_n / count_n\n",
    "    average_ow = cost_ow / count_ow\n",
    "    average_o = cost_o / count_o\n",
    "    return round(average_ow, 2), round(average_n, 2), round(average_ow, 2), round(average_o, 2)\n",
    "abmi = costs_per_bmi(data)\n",
    "print(abmi)\n",
    "#Just looking at BMI vs costs, those who have a normal weight pay the least in insurance costs, while those who are obese\n",
    "#pay the most (as expected). I didn't expect that those who are underweight and those that are overweight would pay the same."
   ]
  },
  {
   "cell_type": "code",
   "execution_count": 15,
   "metadata": {},
   "outputs": [
    {
     "name": "stdout",
     "output_type": "stream",
     "text": [
      "(8434.27, 32050.23, 23616)\n"
     ]
    }
   ],
   "source": [
    "#Question 5: Do smokers pay more than non-smokers overall? For each generation?\n",
    "#Divided the data by smoker-status.\n",
    "def smoker_or_not(data):\n",
    "    i = 0\n",
    "    cost_ns = 0\n",
    "    count_ns = 0\n",
    "    cost_s = 0\n",
    "    count_s = 0\n",
    "    for i in data:\n",
    "        if data[i]['Smoker'] == 'no':\n",
    "            cost_ns += data[i]['Cost']\n",
    "            count_ns += 1\n",
    "        else:\n",
    "            cost_s += data[i]['Cost']\n",
    "            count_s += 1\n",
    "        i += 1\n",
    "    average_ns = cost_ns / count_ns\n",
    "    average_s = cost_s / count_s\n",
    "    diff = average_s - average_ns\n",
    "    return round(average_ns, 2), round(average_s, 2), round(diff)\n",
    "avs_smoker = smoker_or_not(data)\n",
    "print(avs_smoker)\n",
    "#Overall, those who smoke pay $23,616 more on average than those who don't."
   ]
  },
  {
   "cell_type": "code",
   "execution_count": 16,
   "metadata": {},
   "outputs": [
    {
     "name": "stdout",
     "output_type": "stream",
     "text": [
      "(25670.31, 23946.16, 23689.42, 22470.92, 3199)\n"
     ]
    }
   ],
   "source": [
    "#Divided data by smoker-status and generation.\n",
    "def smoker_costs_per_age(data):\n",
    "    i = 0\n",
    "    cost_bbns = 0\n",
    "    count_bbns = 0\n",
    "    cost_bbs = 0\n",
    "    count_bbs = 0\n",
    "    cost_gxns = 0\n",
    "    count_gxns = 0\n",
    "    cost_gxs = 0\n",
    "    count_gxs = 0\n",
    "    cost_mns = 0\n",
    "    count_mns = 0\n",
    "    cost_ms = 0\n",
    "    count_ms = 0\n",
    "    cost_gzns = 0\n",
    "    count_gzns = 0\n",
    "    cost_gzs = 0\n",
    "    count_gzs = 0\n",
    "    for i in data:\n",
    "        if data[i]['Smoker'] == 'no':\n",
    "            if data[i]['Age'] < 74 and data[i]['Age'] > 56:\n",
    "                cost_bbns += data[i]['Cost']\n",
    "                count_bbns += 1\n",
    "            elif data[i]['Age'] < 55 and data[i]['Age'] > 40:\n",
    "                cost_gxns += data[i]['Cost']\n",
    "                count_gxns += 1\n",
    "            elif data[i]['Age'] < 39 and data[i]['Age'] > 24:\n",
    "                cost_mns += data[i]['Cost']\n",
    "                count_mns += 1\n",
    "            else:\n",
    "                cost_gzns += data[i]['Cost']\n",
    "                count_gzns += 1\n",
    "        if data[i]['Smoker'] == 'yes':\n",
    "            if data[i]['Age'] < 74 and data[i]['Age'] > 56:\n",
    "                cost_bbs += data[i]['Cost']\n",
    "                count_bbs += 1\n",
    "            elif data[i]['Age'] < 55 and data[i]['Age'] > 40:\n",
    "                cost_gxs += data[i]['Cost']\n",
    "                count_gxs += 1\n",
    "            elif data[i]['Age'] < 39 and data[i]['Age'] > 24:\n",
    "                cost_ms += data[i]['Cost']\n",
    "                count_ms += 1\n",
    "            else:\n",
    "                cost_gzs += data[i]['Cost']\n",
    "                count_gzs += 1\n",
    "        i += 1\n",
    "    average_bbns = cost_bbns / count_bbns\n",
    "    average_bbs = cost_bbs / count_bbs\n",
    "    average_gxns = cost_gxns / count_gxns\n",
    "    average_gxs = cost_gxs / count_gxs\n",
    "    average_mns = cost_mns / count_mns\n",
    "    average_ms = cost_ms / count_ms\n",
    "    average_gzns = cost_gzns / count_gzns\n",
    "    average_gzs = cost_gzs / count_gzs\n",
    "    diffbb = average_bbs - average_bbns\n",
    "    diffgx = average_gxs - average_gxns\n",
    "    diffm = average_ms - average_mns\n",
    "    diffgz = average_gzs - average_gzns\n",
    "    smoker_diff = diffbb - diffgz\n",
    "    return round(diffbb, 2), round(diffgx, 2), round(diffm, 2), round(diffgz, 2), round(smoker_diff)\n",
    "avs_smoker_by_age = smoker_costs_per_age(data)\n",
    "print(avs_smoker_by_age)\n",
    "#As expected, Baby Boomers pay the most, $3199 more than those in Generation Z."
   ]
  },
  {
   "cell_type": "code",
   "execution_count": 14,
   "metadata": {},
   "outputs": [],
   "source": [
    "#Question 6: Do men or women pay more on average overall? What about for each generation?"
   ]
  },
  {
   "cell_type": "code",
   "execution_count": 22,
   "metadata": {},
   "outputs": [
    {
     "name": "stdout",
     "output_type": "stream",
     "text": [
      "(13956.75, 12569.58, 1387)\n"
     ]
    }
   ],
   "source": [
    "def men_or_women(data):\n",
    "    i = 0\n",
    "    cost_m = 0\n",
    "    count_m = 0\n",
    "    cost_w = 0\n",
    "    count_w = 0\n",
    "    for i in data:\n",
    "        if data[i]['Sex'] == 'male':\n",
    "            cost_m += data[i]['Cost']\n",
    "            count_m += 1\n",
    "        else:\n",
    "            cost_w += data[i]['Cost']\n",
    "            count_w += 1\n",
    "        i += 1\n",
    "    average_m = cost_m / count_m\n",
    "    average_w = cost_w / count_w\n",
    "    diff = average_m - average_w\n",
    "    return round(average_m, 2), round(average_w, 2), round(diff)\n",
    "average_by_gender = men_or_women(data)\n",
    "print(average_by_gender)\n",
    "#Overall, men pay $1387 more than women on average."
   ]
  },
  {
   "cell_type": "code",
   "execution_count": 24,
   "metadata": {},
   "outputs": [
    {
     "name": "stdout",
     "output_type": "stream",
     "text": [
      "(913.31, 1631.06, 2243.72, 946.22)\n"
     ]
    }
   ],
   "source": [
    "def costs_by_gender_age(data):\n",
    "    i = 0\n",
    "    cost_bbm = 0\n",
    "    count_bbm = 0\n",
    "    cost_bbw = 0\n",
    "    count_bbw = 0\n",
    "    cost_gxm = 0\n",
    "    count_gxm = 0\n",
    "    cost_gxw = 0\n",
    "    count_gxw = 0\n",
    "    cost_mm = 0\n",
    "    count_mm = 0\n",
    "    cost_mw = 0\n",
    "    count_mw = 0\n",
    "    cost_gzm = 0\n",
    "    count_gzm = 0\n",
    "    cost_gzw = 0\n",
    "    count_gzw = 0\n",
    "    for i in data:\n",
    "        if data[i]['Sex'] == 'male':\n",
    "            if data[i]['Age'] < 74 and data[i]['Age'] > 56:\n",
    "                cost_bbm += data[i]['Cost']\n",
    "                count_bbm += 1\n",
    "            elif data[i]['Age'] < 55 and data[i]['Age'] > 40:\n",
    "                cost_gxm += data[i]['Cost']\n",
    "                count_gxm += 1\n",
    "            elif data[i]['Age'] < 39 and data[i]['Age'] > 24:\n",
    "                cost_mm += data[i]['Cost']\n",
    "                count_mm += 1\n",
    "            else:\n",
    "                cost_gzm += data[i]['Cost']\n",
    "                count_gzm += 1\n",
    "        if data[i]['Sex'] == 'female':\n",
    "            if data[i]['Age'] < 74 and data[i]['Age'] > 56:\n",
    "                cost_bbw += data[i]['Cost']\n",
    "                count_bbw += 1\n",
    "            elif data[i]['Age'] < 55 and data[i]['Age'] > 40:\n",
    "                cost_gxw += data[i]['Cost']\n",
    "                count_gxw += 1\n",
    "            elif data[i]['Age'] < 39 and data[i]['Age'] > 24:\n",
    "                cost_mw += data[i]['Cost']\n",
    "                count_mw += 1\n",
    "            else:\n",
    "                cost_gzw += data[i]['Cost']\n",
    "                count_gzw += 1\n",
    "        i += 1\n",
    "    average_bbm = cost_bbm / count_bbm\n",
    "    average_bbw = cost_bbw / count_bbw\n",
    "    average_gxm = cost_gxm / count_gxm\n",
    "    average_gxw = cost_gxw / count_gxw\n",
    "    average_mm = cost_mm / count_mm\n",
    "    average_mw = cost_mw / count_mw\n",
    "    average_gzm = cost_gzm / count_gzm\n",
    "    average_gzw = cost_gzw / count_gzw\n",
    "    diffbb = average_bbm - average_bbw\n",
    "    diffgx = average_gxm - average_gxw\n",
    "    diffm = average_mm - average_mw\n",
    "    diffgz = average_gzm - average_gzw\n",
    "    return round(diffbb, 2), round(diffgx, 2), round(diffm, 2), round(diffgz, 2)\n",
    "avs_by_gender_age = costs_by_gender_age(data)\n",
    "print(avs_by_gender_age)\n",
    "#On average, men in every generation pay more than women for the given data set.\n",
    "#Men who are millennials pay those most. $2243.72 more than women in the same generation."
   ]
  }
 ],
 "metadata": {
  "kernelspec": {
   "display_name": "Python 3",
   "language": "python",
   "name": "python3"
  },
  "language_info": {
   "codemirror_mode": {
    "name": "ipython",
    "version": 3
   },
   "file_extension": ".py",
   "mimetype": "text/x-python",
   "name": "python",
   "nbconvert_exporter": "python",
   "pygments_lexer": "ipython3",
   "version": "3.8.6"
  }
 },
 "nbformat": 4,
 "nbformat_minor": 4
}
